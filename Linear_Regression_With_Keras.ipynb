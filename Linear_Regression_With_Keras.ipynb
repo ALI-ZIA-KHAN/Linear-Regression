{
  "cells": [
    {
      "cell_type": "code",
      "execution_count": 19,
      "metadata": {
        "id": "Y1YMTitYOq6v"
      },
      "outputs": [],
      "source": [
        "from tensorflow.keras.models import Sequential\n",
        "from tensorflow.keras.layers import Dense \n",
        "from tensorflow.keras.optimizers import Adam, SGD\n",
        "\n",
        "%matplotlib inline\n",
        "import matplotlib.pyplot as plt\n",
        "import numpy as np\n",
        "import pandas as pd"
      ]
    },
    {
      "cell_type": "code",
      "execution_count": 20,
      "metadata": {
        "collapsed": true,
        "id": "t4YzZd0LOq62"
      },
      "outputs": [],
      "source": [
        "df=pd.read_csv('/weight-height.csv')"
      ]
    },
    {
      "cell_type": "code",
      "execution_count": 21,
      "metadata": {
        "collapsed": true,
        "id": "OfX4b4amOq64"
      },
      "outputs": [],
      "source": [
        "X=df[['Height']].values\n",
        "y_true=df[['Weight']].values"
      ]
    },
    {
      "cell_type": "code",
      "execution_count": 9,
      "metadata": {
        "colab": {
          "base_uri": "https://localhost:8080/"
        },
        "id": "0RxShVxBOq65",
        "outputId": "3a2d82ad-a311-4961-a2c1-b78593817a65"
      },
      "outputs": [
        {
          "output_type": "execute_result",
          "data": {
            "text/plain": [
              "array([[73.84701702],\n",
              "       [68.78190405],\n",
              "       [74.11010539],\n",
              "       ...,\n",
              "       [63.86799221],\n",
              "       [69.03424313],\n",
              "       [61.94424588]])"
            ]
          },
          "metadata": {},
          "execution_count": 9
        }
      ],
      "source": [
        "X"
      ]
    },
    {
      "cell_type": "code",
      "execution_count": 22,
      "metadata": {
        "collapsed": true,
        "id": "UDBKKo4WOq68"
      },
      "outputs": [],
      "source": [
        "#now we are creating our model\n",
        "#don't focus on model structure here , it is for concept of setting weights basically ML is based on this\n",
        "model = Sequential()\n",
        "model.add(Dense(1, input_shape=(1,)))"
      ]
    },
    {
      "cell_type": "code",
      "execution_count": 23,
      "metadata": {
        "colab": {
          "base_uri": "https://localhost:8080/"
        },
        "id": "5lhMDbyUOq69",
        "outputId": "9a49559e-d046-44d2-eeae-45ec57f5486d"
      },
      "outputs": [
        {
          "output_type": "stream",
          "name": "stdout",
          "text": [
            "Model: \"sequential_1\"\n",
            "_________________________________________________________________\n",
            " Layer (type)                Output Shape              Param #   \n",
            "=================================================================\n",
            " dense_1 (Dense)             (None, 1)                 2         \n",
            "                                                                 \n",
            "=================================================================\n",
            "Total params: 2\n",
            "Trainable params: 2\n",
            "Non-trainable params: 0\n",
            "_________________________________________________________________\n"
          ]
        }
      ],
      "source": [
        "model.summary()\n",
        "#2 params w n b ,1 layer model as we have write 1 dense layer"
      ]
    },
    {
      "cell_type": "code",
      "execution_count": 25,
      "metadata": {
        "collapsed": true,
        "colab": {
          "base_uri": "https://localhost:8080/"
        },
        "id": "ghC4DUbkOq6_",
        "outputId": "872dc061-71bb-442f-bc51-286009c29717"
      },
      "outputs": [
        {
          "output_type": "stream",
          "name": "stderr",
          "text": [
            "/usr/local/lib/python3.7/dist-packages/keras/optimizer_v2/adam.py:105: UserWarning: The `lr` argument is deprecated, use `learning_rate` instead.\n",
            "  super(Adam, self).__init__(name, **kwargs)\n"
          ]
        }
      ],
      "source": [
        "model.compile(Adam(lr=0.8), 'mean_squared_error')\n",
        "#here we are giving optimizer and loss function"
      ]
    },
    {
      "cell_type": "code",
      "execution_count": 26,
      "metadata": {
        "colab": {
          "base_uri": "https://localhost:8080/"
        },
        "id": "-wGtRP-8Oq7A",
        "outputId": "505cc949-ec1e-4acc-c068-279e8db19601"
      },
      "outputs": [
        {
          "output_type": "stream",
          "name": "stdout",
          "text": [
            "Epoch 1/40\n",
            "313/313 [==============================] - 1s 1ms/step - loss: 958.8506\n",
            "Epoch 2/40\n",
            "313/313 [==============================] - 0s 1ms/step - loss: 559.4499\n",
            "Epoch 3/40\n",
            "313/313 [==============================] - 0s 1ms/step - loss: 512.9664\n",
            "Epoch 4/40\n",
            "313/313 [==============================] - 0s 1ms/step - loss: 462.4703\n",
            "Epoch 5/40\n",
            "313/313 [==============================] - 0s 1ms/step - loss: 450.9916\n",
            "Epoch 6/40\n",
            "313/313 [==============================] - 0s 1ms/step - loss: 400.2378\n",
            "Epoch 7/40\n",
            "313/313 [==============================] - 0s 1ms/step - loss: 360.2915\n",
            "Epoch 8/40\n",
            "313/313 [==============================] - 0s 1ms/step - loss: 328.9948\n",
            "Epoch 9/40\n",
            "313/313 [==============================] - 0s 1ms/step - loss: 292.0746\n",
            "Epoch 10/40\n",
            "313/313 [==============================] - 0s 1ms/step - loss: 259.6012\n",
            "Epoch 11/40\n",
            "313/313 [==============================] - 0s 1ms/step - loss: 261.0168\n",
            "Epoch 12/40\n",
            "313/313 [==============================] - 0s 1ms/step - loss: 230.3840\n",
            "Epoch 13/40\n",
            "313/313 [==============================] - 0s 1ms/step - loss: 209.3645\n",
            "Epoch 14/40\n",
            "313/313 [==============================] - 0s 1ms/step - loss: 207.2042\n",
            "Epoch 15/40\n",
            "313/313 [==============================] - 0s 1ms/step - loss: 202.0772\n",
            "Epoch 16/40\n",
            "313/313 [==============================] - 0s 1ms/step - loss: 195.7619\n",
            "Epoch 17/40\n",
            "313/313 [==============================] - 0s 1ms/step - loss: 191.4038\n",
            "Epoch 18/40\n",
            "313/313 [==============================] - 0s 1ms/step - loss: 187.5889\n",
            "Epoch 19/40\n",
            "313/313 [==============================] - 0s 1ms/step - loss: 212.2115\n",
            "Epoch 20/40\n",
            "313/313 [==============================] - 0s 1ms/step - loss: 195.0656\n",
            "Epoch 21/40\n",
            "313/313 [==============================] - 0s 1ms/step - loss: 175.3126\n",
            "Epoch 22/40\n",
            "313/313 [==============================] - 0s 1ms/step - loss: 184.7740\n",
            "Epoch 23/40\n",
            "313/313 [==============================] - 0s 1ms/step - loss: 181.2622\n",
            "Epoch 24/40\n",
            "313/313 [==============================] - 0s 1ms/step - loss: 173.6509\n",
            "Epoch 25/40\n",
            "313/313 [==============================] - 0s 1ms/step - loss: 176.7618\n",
            "Epoch 26/40\n",
            "313/313 [==============================] - 0s 1ms/step - loss: 181.5846\n",
            "Epoch 27/40\n",
            "313/313 [==============================] - 0s 1ms/step - loss: 181.8943\n",
            "Epoch 28/40\n",
            "313/313 [==============================] - 0s 1ms/step - loss: 172.0123\n",
            "Epoch 29/40\n",
            "313/313 [==============================] - 0s 1ms/step - loss: 179.0144\n",
            "Epoch 30/40\n",
            "313/313 [==============================] - 0s 1ms/step - loss: 177.7169\n",
            "Epoch 31/40\n",
            "313/313 [==============================] - 0s 1ms/step - loss: 178.7307\n",
            "Epoch 32/40\n",
            "313/313 [==============================] - 0s 1ms/step - loss: 177.7227\n",
            "Epoch 33/40\n",
            "313/313 [==============================] - 0s 1ms/step - loss: 192.0303\n",
            "Epoch 34/40\n",
            "313/313 [==============================] - 0s 1ms/step - loss: 172.8830\n",
            "Epoch 35/40\n",
            "313/313 [==============================] - 0s 1ms/step - loss: 183.4522\n",
            "Epoch 36/40\n",
            "313/313 [==============================] - 0s 1ms/step - loss: 172.6295\n",
            "Epoch 37/40\n",
            "313/313 [==============================] - 0s 1ms/step - loss: 186.4174\n",
            "Epoch 38/40\n",
            "313/313 [==============================] - 0s 1ms/step - loss: 170.4697\n",
            "Epoch 39/40\n",
            "313/313 [==============================] - 0s 1ms/step - loss: 180.3424\n",
            "Epoch 40/40\n",
            "313/313 [==============================] - 0s 1ms/step - loss: 175.7125\n"
          ]
        },
        {
          "output_type": "execute_result",
          "data": {
            "text/plain": [
              "<keras.callbacks.History at 0x7f7a49bb9390>"
            ]
          },
          "metadata": {},
          "execution_count": 26
        }
      ],
      "source": [
        "model.fit(X,y_true, epochs=40)\n",
        "#now giving data to model i.e X is our input y_true is output\n",
        "#epochs 40 means data will be go through by model 40 times\n",
        "#how many epochs?depends on each scenario\n",
        "#here 1000/313=32 means it is taking 32 records from sample at one time i.e batch size,usually in 2^, \n",
        "#u can also give parameter after epochs of batch_size\n",
        "#loss value is mean of whole batch\n",
        "#loss is showing in 100s as loss funct used here is sqrd errr\n",
        "\n"
      ]
    },
    {
      "cell_type": "code",
      "execution_count": 27,
      "metadata": {
        "collapsed": true,
        "id": "SGDlkeyAOq7B"
      },
      "outputs": [],
      "source": [
        "y_pred=model.predict(X)\n",
        "#NOW TAKING ITS PREDICTION"
      ]
    },
    {
      "cell_type": "code",
      "execution_count": 28,
      "metadata": {
        "colab": {
          "base_uri": "https://localhost:8080/",
          "height": 312
        },
        "id": "MxdOZnTjOq7D",
        "outputId": "75aa8505-93e8-48a3-dbcc-0f5ad1a6cece"
      },
      "outputs": [
        {
          "output_type": "execute_result",
          "data": {
            "text/plain": [
              "[<matplotlib.lines.Line2D at 0x7f7a49ba83d0>]"
            ]
          },
          "metadata": {},
          "execution_count": 28
        },
        {
          "output_type": "display_data",
          "data": {
            "text/plain": [
              "<Figure size 432x288 with 1 Axes>"
            ],
            "image/png": "[encoded data removed]"
          },
          "metadata": {
            "needs_background": "light"
          }
        }
      ],
      "source": [
        "df.plot(kind='scatter',\n",
        "       x='Height',\n",
        "       y='Weight', title='Weight and Height in adults')\n",
        "plt.plot(X, y_pred, color='red', linewidth=3)\n",
        "\n",
        "#woah, model learnt in a way that it drew a very good line"
      ]
    },
    {
      "cell_type": "code",
      "execution_count": 29,
      "metadata": {
        "collapsed": true,
        "id": "Jfeok0ILOq7E"
      },
      "outputs": [],
      "source": [
        "w,b=model.get_weights()\n",
        "#now since it is bcz of good adjusting weights by model, we want to know what he putted"
      ]
    },
    {
      "cell_type": "code",
      "execution_count": 30,
      "metadata": {
        "colab": {
          "base_uri": "https://localhost:8080/"
        },
        "id": "T7HEEtmiOq7F",
        "outputId": "30493634-d77c-4a33-e225-cfef3456b7f1"
      },
      "outputs": [
        {
          "output_type": "execute_result",
          "data": {
            "text/plain": [
              "array([[7.783276]], dtype=float32)"
            ]
          },
          "metadata": {},
          "execution_count": 30
        }
      ],
      "source": [
        "w"
      ]
    },
    {
      "cell_type": "code",
      "execution_count": 31,
      "metadata": {
        "colab": {
          "base_uri": "https://localhost:8080/"
        },
        "id": "qfdnbGrsOq7G",
        "outputId": "e22699ef-7495-4589-f50e-2820075e3441"
      },
      "outputs": [
        {
          "output_type": "execute_result",
          "data": {
            "text/plain": [
              "array([-348.08005], dtype=float32)"
            ]
          },
          "metadata": {},
          "execution_count": 31
        }
      ],
      "source": [
        "b"
      ]
    },
    {
      "cell_type": "code",
      "execution_count": null,
      "metadata": {
        "collapsed": true,
        "id": "u1YnAuRCOq7H"
      },
      "outputs": [],
      "source": [
        "#so these were the values, now we can put these values in our manual model and verify that"
      ]
    }
  ],
  "metadata": {
    "kernelspec": {
      "display_name": "Python 3",
      "language": "python",
      "name": "python3"
    },
    "language_info": {
      "codemirror_mode": {
        "name": "ipython",
        "version": 3
      },
      "file_extension": ".py",
      "mimetype": "text/x-python",
      "name": "python",
      "nbconvert_exporter": "python",
      "pygments_lexer": "ipython3",
      "version": "3.6.3"
    },
    "colab": {
      "name": "Linear Regression With Keras.ipynb",
      "provenance": []
    }
  },
  "nbformat": 4,
  "nbformat_minor": 0
}